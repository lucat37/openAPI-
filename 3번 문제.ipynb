{
 "cells": [
  {
   "cell_type": "markdown",
   "metadata": {},
   "source": [
    "# 3번"
   ]
  },
  {
   "cell_type": "code",
   "execution_count": 14,
   "metadata": {},
   "outputs": [],
   "source": [
    "import pandas as pd\n",
    "import requests, folium\n",
    "from openpyxl import load_workbook, Workbook\n",
    "\n",
    "filePath = r'지역별 폭염일수.xlsx'\n",
    "\n",
    "df_from_excel = pd.read_excel(filePath,engine='openpyxl')\n",
    "df_from_excel.columns = df_from_excel.loc[4].tolist()\n",
    "df_from_excel = df_from_excel.drop(index=list(range(0,5)))\n",
    "\n",
    "url = 'http://api.vworld.kr/req/address?'\n",
    "params = 'service=address&request=getcoord&version=2.0&crs=epsg:4326&refine=true&simple=false&format=json&type='\n",
    "road_type = 'ROAD'   #도로명주소\n",
    "road_type2 = 'PARCEL' #지번주소\n",
    "address = '&address='\n",
    "keys = '&key='\n",
    "primary_key = 'DD8EE3E0-5551-3922-A996-F7576569FA08'\n",
    "\n",
    "df_from_excel.columns = ['이름','경도','위도','폭염일수']\n",
    "\n",
    "name_list = df_from_excel['이름'].to_list()\n",
    "hot_list = df_from_excel['폭염일수'].to_list()\n",
    "position_x_list = df_from_excel['경도'].to_list()\n",
    "position_y_list = df_from_excel['위도'].to_list()\n",
    "\n",
    "map = folium.Map(location=[37,127],zoom_start=7)\n",
    "\n",
    "for i in range(len(name_list)):\n",
    "    if position_x_list[i] != 0:\n",
    "        marker = folium.Marker([position_y_list[i], position_x_list[i]], popup=name_list[i], icon = folium.Icon(color='blue'))\n",
    "        marker.add_to(map) \n",
    "\n",
    "map.save(r'폭염 지도 시각화.html')"
   ]
  },
  {
   "cell_type": "code",
   "execution_count": null,
   "metadata": {},
   "outputs": [],
   "source": []
  }
 ],
 "metadata": {
  "kernelspec": {
   "display_name": "lucky",
   "language": "python",
   "name": "lucky"
  },
  "language_info": {
   "codemirror_mode": {
    "name": "ipython",
    "version": 3
   },
   "file_extension": ".py",
   "mimetype": "text/x-python",
   "name": "python",
   "nbconvert_exporter": "python",
   "pygments_lexer": "ipython3",
   "version": "3.10.13"
  }
 },
 "nbformat": 4,
 "nbformat_minor": 2
}
